{
 "cells": [
  {
   "cell_type": "markdown",
   "metadata": {},
   "source": [
    "# Model to classify sentiment of news articles \n",
    "- Dataset: FinancialPhraseBank\n",
    "    - Fields: Sentiment (+, neutral, -), headline\n",
    "- Save model, use to classify headlines found from newsapi for specific stocks\n",
    "- Use sentiment scores across multiple recent articles to determine market sentiment on picked stock"
   ]
  },
  {
   "cell_type": "code",
   "execution_count": 1,
   "metadata": {},
   "outputs": [],
   "source": [
    "import pandas as pd \n",
    "import numpy as np\n",
    "import keras \n",
    "import pickle\n",
    "from keras.preprocessing.text import Tokenizer\n",
    "from keras.preprocessing.sequence import pad_sequences\n",
    "from tensorflow.keras.utils import to_categorical\n",
    "import tensorflow as tf\n",
    "import matplotlib.pyplot as plt\n",
    "from scipy.stats import linregress"
   ]
  },
  {
   "cell_type": "code",
   "execution_count": 3,
   "metadata": {},
   "outputs": [
    {
     "name": "stdout",
     "output_type": "stream",
     "text": [
      "4845\n"
     ]
    },
    {
     "name": "stderr",
     "output_type": "stream",
     "text": [
      "<ipython-input-3-08d15cb120d8>:10: FutureWarning: The default value of regex will change from True to False in a future version.\n",
      "  df.headline = df.headline.str.replace('[^a-zA-Z ]', '').str.lower()\n"
     ]
    },
    {
     "data": {
      "text/html": [
       "<div>\n",
       "<style scoped>\n",
       "    .dataframe tbody tr th:only-of-type {\n",
       "        vertical-align: middle;\n",
       "    }\n",
       "\n",
       "    .dataframe tbody tr th {\n",
       "        vertical-align: top;\n",
       "    }\n",
       "\n",
       "    .dataframe thead th {\n",
       "        text-align: right;\n",
       "    }\n",
       "</style>\n",
       "<table border=\"1\" class=\"dataframe\">\n",
       "  <thead>\n",
       "    <tr style=\"text-align: right;\">\n",
       "      <th></th>\n",
       "      <th>sentiment</th>\n",
       "      <th>headline</th>\n",
       "    </tr>\n",
       "  </thead>\n",
       "  <tbody>\n",
       "    <tr>\n",
       "      <th>0</th>\n",
       "      <td>1</td>\n",
       "      <td>technopolis plans to develop in stages an area...</td>\n",
       "    </tr>\n",
       "    <tr>\n",
       "      <th>1</th>\n",
       "      <td>0</td>\n",
       "      <td>the international electronic industry company ...</td>\n",
       "    </tr>\n",
       "    <tr>\n",
       "      <th>2</th>\n",
       "      <td>2</td>\n",
       "      <td>with the new production plant the company woul...</td>\n",
       "    </tr>\n",
       "    <tr>\n",
       "      <th>3</th>\n",
       "      <td>2</td>\n",
       "      <td>according to the company s updated strategy fo...</td>\n",
       "    </tr>\n",
       "    <tr>\n",
       "      <th>4</th>\n",
       "      <td>2</td>\n",
       "      <td>financing of aspocomp s growth aspocomp is agg...</td>\n",
       "    </tr>\n",
       "  </tbody>\n",
       "</table>\n",
       "</div>"
      ],
      "text/plain": [
       "   sentiment                                           headline\n",
       "0          1  technopolis plans to develop in stages an area...\n",
       "1          0  the international electronic industry company ...\n",
       "2          2  with the new production plant the company woul...\n",
       "3          2  according to the company s updated strategy fo...\n",
       "4          2  financing of aspocomp s growth aspocomp is agg..."
      ]
     },
     "execution_count": 3,
     "metadata": {},
     "output_type": "execute_result"
    }
   ],
   "source": [
    "path = '../res/datasets/financial_sentiment.csv'\n",
    "df = pd.read_csv(path)\n",
    "df.columns = ['sentiment', 'headline']\n",
    "sentiment = {\n",
    "    'positive' : 2,\n",
    "    'neutral' : 1,\n",
    "    'negative' : 0\n",
    "}\n",
    "df = df.replace({'sentiment' : sentiment})\n",
    "df.headline = df.headline.str.replace('[^a-zA-Z ]', '').str.lower()\n",
    "print(len(df))\n",
    "df.head()"
   ]
  },
  {
   "cell_type": "code",
   "execution_count": 4,
   "metadata": {},
   "outputs": [
    {
     "name": "stdout",
     "output_type": "stream",
     "text": [
      "negative articles: 604\n",
      "neutral articles: 2878\n",
      "positive articles: 1363\n",
      "len of df: 4845\n"
     ]
    }
   ],
   "source": [
    "print('negative articles: ' + str(df.sentiment.value_counts()[0]))\n",
    "print('neutral articles: ' + str(df.sentiment.value_counts()[1]))\n",
    "print('positive articles: ' + str(df.sentiment.value_counts()[2]))\n",
    "print('len of df: ' + str(len(df)))"
   ]
  },
  {
   "cell_type": "code",
   "execution_count": 5,
   "metadata": {},
   "outputs": [
    {
     "name": "stdout",
     "output_type": "stream",
     "text": [
      "negative articles: 2416\n",
      "neutral articles: 2878\n",
      "positive articles: 2726\n",
      "len of df: 8020\n"
     ]
    }
   ],
   "source": [
    "df_negative = df.loc[df['sentiment'] == 0]\n",
    "df = df.append([df_negative] * 3, ignore_index=True)\n",
    "df_positive = df.loc[df['sentiment'] == 2]\n",
    "df = df.append([df_positive], ignore_index=True)\n",
    "df = df.sample(frac=1)\n",
    "\n",
    "print('negative articles: ' + str(df.sentiment.value_counts()[0]))\n",
    "print('neutral articles: ' + str(df.sentiment.value_counts()[1]))\n",
    "print('positive articles: ' + str(df.sentiment.value_counts()[2]))\n",
    "print('len of df: ' + str(len(df)))"
   ]
  },
  {
   "cell_type": "code",
   "execution_count": 6,
   "metadata": {},
   "outputs": [
    {
     "name": "stdout",
     "output_type": "stream",
     "text": [
      "6416 1604\n",
      "6416 1604\n"
     ]
    }
   ],
   "source": [
    "remove_stopwords = False\n",
    "\n",
    "train_prop = 0.8\n",
    "train_split = int(train_prop * len(df)) \n",
    "x = df.headline\n",
    "y = df.sentiment\n",
    "\n",
    "if remove_stopwords:\n",
    "    stopwords_path = '../res/stopwords/stopwords.txt'\n",
    "\n",
    "    stopwords =[]\n",
    "    with open(stopwords_path, 'r') as f:\n",
    "        lines = f.readlines()\n",
    "        stopwords.append('a')\n",
    "        for l in lines:\n",
    "            if len(l.strip()) > 1:\n",
    "                stopwords.append(l.strip())\n",
    "\n",
    "    x_stopwords_removed = []\n",
    "    for word in x:\n",
    "        words = [w for w in word.split() if w not in stopwords]\n",
    "        sentence = ' '.join(words)\n",
    "        x_stopwords_removed.append(sentence)\n",
    "    \n",
    "    x_train, x_test = np.array(x_stopwords_removed[:train_split]), np.array(x_stopwords_removed[train_split:])\n",
    "\n",
    "else:\n",
    "    x_train, x_test = np.array(x[:train_split]), np.array(x[train_split:])\n",
    "    \n",
    "y_train, y_test = np.array(y[:train_split]), np.array(y[train_split:])\n",
    "y_train = to_categorical(y_train)\n",
    "y_test = to_categorical(y_test)\n",
    "print(len(x_train), len(x_test))\n",
    "print(len(y_train), len(y_test))"
   ]
  },
  {
   "cell_type": "code",
   "execution_count": 7,
   "metadata": {},
   "outputs": [
    {
     "data": {
      "text/plain": [
       "'more than  customers were left powerless '"
      ]
     },
     "execution_count": 7,
     "metadata": {},
     "output_type": "execute_result"
    }
   ],
   "source": [
    "x_train[0]"
   ]
  },
  {
   "cell_type": "code",
   "execution_count": 8,
   "metadata": {},
   "outputs": [
    {
     "data": {
      "text/plain": [
       "array([1., 0., 0.], dtype=float32)"
      ]
     },
     "execution_count": 8,
     "metadata": {},
     "output_type": "execute_result"
    }
   ],
   "source": [
    "y_train[0]"
   ]
  },
  {
   "cell_type": "code",
   "execution_count": 9,
   "metadata": {},
   "outputs": [],
   "source": [
    "trunc_type = 'post'\n",
    "oov_tok = ''\n",
    "max_length = 120\n",
    "vocab_size = 10000\n",
    "\n",
    "tokenizer = Tokenizer(num_words=vocab_size, oov_token=oov_tok)\n",
    "tokenizer.fit_on_texts(x_train)\n",
    "word_index = tokenizer.word_index\n",
    "train_sequences = tokenizer.texts_to_sequences(x_train)\n",
    "train_padded = pad_sequences(train_sequences, maxlen=max_length, truncating=trunc_type)\n",
    "testing_sequences = tokenizer.texts_to_sequences(x_test)\n",
    "testing_padded = pad_sequences(testing_sequences, maxlen=max_length, truncating=trunc_type)\n",
    "\n",
    "with open('tokenizer/tokenizer.pickle' , 'wb') as f:\n",
    "    pickle.dump(tokenizer, f, protocol=pickle.HIGHEST_PROTOCOL)"
   ]
  },
  {
   "cell_type": "code",
   "execution_count": 10,
   "metadata": {},
   "outputs": [
    {
     "data": {
      "text/plain": [
       "(6416, 120)"
      ]
     },
     "execution_count": 10,
     "metadata": {},
     "output_type": "execute_result"
    }
   ],
   "source": [
    "train_padded.shape"
   ]
  },
  {
   "cell_type": "code",
   "execution_count": 22,
   "metadata": {},
   "outputs": [],
   "source": [
    "\"\"\"\n",
    "BEST MODEL \n",
    "Not removing stopwords\n",
    "\n",
    "embedding dim = 12\n",
    "tf.keras.layers.Embedding(vocab_size, embedding_dim, input_length=max_length),\n",
    "tf.keras.layers.Dropout(0.25),\n",
    "tf.keras.layers.GRU(4, return_sequences=True),\n",
    "tf.keras.layers.Dropout(0.25),\n",
    "tf.keras.layers.GlobalAveragePooling1D(),\n",
    "tf.keras.layers.Dropout(0.5),\n",
    "tf.keras.layers.BatchNormalization(),\n",
    "tf.keras.layers.Dense(3, activation='relu'),\n",
    "tf.keras.layers.BatchNormalization(),\n",
    "tf.keras.layers.Dense(3, activation='softmax')\n",
    "\n",
    "optimizer = adam with lr = 0.0005\n",
    "\n",
    "trained over 30 epochs\n",
    "double instances of positive news, tripled negative\n",
    "\n",
    "model with lowest val_loss:\n",
    "epoch 26\n",
    "loss: 0.3800 - accuracy: 0.8265 - val_loss: 0.3134 - val_accuracy: 0.8959\n",
    "\n",
    "\"\"\"\n",
    "embedding_dim = 24\n",
    "\n",
    "model = tf.keras.Sequential([\n",
    "    tf.keras.layers.Embedding(vocab_size, embedding_dim, input_length=max_length),\n",
    "    tf.keras.layers.Dropout(0.25),\n",
    "    tf.keras.layers.GRU(12, return_sequences=True),\n",
    "    # tf.keras.layers.Bidirectional(tf.keras.layers.GRU(6, return_sequences=True)),\n",
    "    tf.keras.layers.GlobalAveragePooling1D(),\n",
    "    tf.keras.layers.Dropout(0.5),\n",
    "    tf.keras.layers.BatchNormalization(),\n",
    "    tf.keras.layers.Dense(3),\n",
    "    tf.keras.layers.LeakyReLU(alpha=0.2),\n",
    "    tf.keras.layers.BatchNormalization(),\n",
    "    tf.keras.layers.Dense(3, activation='softmax')\n",
    "])"
   ]
  },
  {
   "cell_type": "code",
   "execution_count": 23,
   "metadata": {},
   "outputs": [
    {
     "name": "stdout",
     "output_type": "stream",
     "text": [
      "Model: \"sequential_2\"\n",
      "_________________________________________________________________\n",
      " Layer (type)                Output Shape              Param #   \n",
      "=================================================================\n",
      " embedding_2 (Embedding)     (None, 120, 24)           240000    \n",
      "                                                                 \n",
      " dropout_3 (Dropout)         (None, 120, 24)           0         \n",
      "                                                                 \n",
      " gru_2 (GRU)                 (None, 120, 12)           1368      \n",
      "                                                                 \n",
      " global_average_pooling1d_2   (None, 12)               0         \n",
      " (GlobalAveragePooling1D)                                        \n",
      "                                                                 \n",
      " dropout_4 (Dropout)         (None, 12)                0         \n",
      "                                                                 \n",
      " batch_normalization_4 (Batc  (None, 12)               48        \n",
      " hNormalization)                                                 \n",
      "                                                                 \n",
      " dense_4 (Dense)             (None, 3)                 39        \n",
      "                                                                 \n",
      " leaky_re_lu_2 (LeakyReLU)   (None, 3)                 0         \n",
      "                                                                 \n",
      " batch_normalization_5 (Batc  (None, 3)                12        \n",
      " hNormalization)                                                 \n",
      "                                                                 \n",
      " dense_5 (Dense)             (None, 3)                 12        \n",
      "                                                                 \n",
      "=================================================================\n",
      "Total params: 241,479\n",
      "Trainable params: 241,449\n",
      "Non-trainable params: 30\n",
      "_________________________________________________________________\n"
     ]
    }
   ],
   "source": [
    "model.summary()"
   ]
  },
  {
   "cell_type": "code",
   "execution_count": 24,
   "metadata": {},
   "outputs": [],
   "source": [
    "optimizer = tf.keras.optimizers.Adam(learning_rate=0.0005)\n",
    "model.compile(\n",
    "    loss='categorical_crossentropy', optimizer=optimizer, metrics=['accuracy']\n",
    ")"
   ]
  },
  {
   "cell_type": "code",
   "execution_count": 25,
   "metadata": {},
   "outputs": [],
   "source": [
    "checkpoint_filepath = 'checkpoint_model/sentiment_model.h5' \n",
    "model_checkpoint = keras.callbacks.ModelCheckpoint(\n",
    "    filepath=checkpoint_filepath, \n",
    "    save_best_only=True,\n",
    "    monitor='val_loss'\n",
    ")\n",
    "\n",
    "early_stopping_callback = keras.callbacks.EarlyStopping(patience=15)\n",
    "\n",
    "class Callback(tf.keras.callbacks.Callback):\n",
    "    def on_epoch_end(self, epoch, logs={}):\n",
    "        val_loss = logs.get('val_loss')\n",
    "        if(val_loss > 1 and epoch > 5):\n",
    "            print('\\nmodel diverging. ending training.')\n",
    "            self.model.stop_training = True\n",
    "val_loss = Callback()"
   ]
  },
  {
   "cell_type": "code",
   "execution_count": 26,
   "metadata": {},
   "outputs": [
    {
     "name": "stdout",
     "output_type": "stream",
     "text": [
      "Epoch 1/30\n",
      "201/201 [==============================] - 24s 89ms/step - loss: 1.1237 - accuracy: 0.4046 - val_loss: 1.0833 - val_accuracy: 0.4919\n",
      "Epoch 2/30\n",
      "201/201 [==============================] - 17s 83ms/step - loss: 0.8584 - accuracy: 0.6049 - val_loss: 0.9679 - val_accuracy: 0.7406\n",
      "Epoch 3/30\n",
      "201/201 [==============================] - 17s 84ms/step - loss: 0.6341 - accuracy: 0.7544 - val_loss: 0.7146 - val_accuracy: 0.7512\n",
      "Epoch 4/30\n",
      "201/201 [==============================] - 17s 82ms/step - loss: 0.5063 - accuracy: 0.8223 - val_loss: 0.5007 - val_accuracy: 0.8379\n",
      "Epoch 5/30\n",
      "201/201 [==============================] - 16s 80ms/step - loss: 0.4113 - accuracy: 0.8694 - val_loss: 0.4185 - val_accuracy: 0.8628\n",
      "Epoch 6/30\n",
      "201/201 [==============================] - 17s 82ms/step - loss: 0.3336 - accuracy: 0.8951 - val_loss: 0.4347 - val_accuracy: 0.8498\n",
      "Epoch 7/30\n",
      "201/201 [==============================] - 17s 83ms/step - loss: 0.2894 - accuracy: 0.9091 - val_loss: 0.3640 - val_accuracy: 0.8728\n",
      "Epoch 8/30\n",
      "201/201 [==============================] - 16s 80ms/step - loss: 0.2591 - accuracy: 0.9193 - val_loss: 0.4092 - val_accuracy: 0.8647\n",
      "Epoch 9/30\n",
      "201/201 [==============================] - 16s 82ms/step - loss: 0.2483 - accuracy: 0.9196 - val_loss: 0.3627 - val_accuracy: 0.8728\n",
      "Epoch 10/30\n",
      "201/201 [==============================] - 17s 83ms/step - loss: 0.2011 - accuracy: 0.9366 - val_loss: 0.3415 - val_accuracy: 0.8890\n",
      "Epoch 11/30\n",
      "201/201 [==============================] - 17s 85ms/step - loss: 0.2081 - accuracy: 0.9347 - val_loss: 0.3409 - val_accuracy: 0.8897\n",
      "Epoch 12/30\n",
      "201/201 [==============================] - 17s 85ms/step - loss: 0.1832 - accuracy: 0.9397 - val_loss: 0.3608 - val_accuracy: 0.8784\n",
      "Epoch 13/30\n",
      "201/201 [==============================] - 17s 84ms/step - loss: 0.1785 - accuracy: 0.9412 - val_loss: 0.3450 - val_accuracy: 0.8928\n",
      "Epoch 14/30\n",
      "201/201 [==============================] - 16s 79ms/step - loss: 0.1702 - accuracy: 0.9453 - val_loss: 0.3547 - val_accuracy: 0.8897\n",
      "Epoch 15/30\n",
      "201/201 [==============================] - 16s 81ms/step - loss: 0.1529 - accuracy: 0.9517 - val_loss: 0.3679 - val_accuracy: 0.8915\n",
      "Epoch 16/30\n",
      "201/201 [==============================] - 16s 81ms/step - loss: 0.1568 - accuracy: 0.9454 - val_loss: 0.5003 - val_accuracy: 0.8554\n",
      "Epoch 17/30\n",
      "201/201 [==============================] - 16s 80ms/step - loss: 0.1460 - accuracy: 0.9489 - val_loss: 0.3413 - val_accuracy: 0.8996\n",
      "Epoch 18/30\n",
      "201/201 [==============================] - 20s 99ms/step - loss: 0.1510 - accuracy: 0.9459 - val_loss: 0.4270 - val_accuracy: 0.8803\n",
      "Epoch 19/30\n",
      "201/201 [==============================] - 21s 106ms/step - loss: 0.1416 - accuracy: 0.9509 - val_loss: 0.3591 - val_accuracy: 0.8971\n",
      "Epoch 20/30\n",
      "201/201 [==============================] - 19s 93ms/step - loss: 0.1324 - accuracy: 0.9567 - val_loss: 0.3410 - val_accuracy: 0.9002\n",
      "Epoch 21/30\n",
      "201/201 [==============================] - 16s 79ms/step - loss: 0.1392 - accuracy: 0.9490 - val_loss: 0.4151 - val_accuracy: 0.8903\n",
      "Epoch 22/30\n",
      "201/201 [==============================] - 17s 83ms/step - loss: 0.1224 - accuracy: 0.9571 - val_loss: 0.3586 - val_accuracy: 0.8996\n",
      "Epoch 23/30\n",
      "201/201 [==============================] - 17s 83ms/step - loss: 0.1286 - accuracy: 0.9568 - val_loss: 0.4114 - val_accuracy: 0.8934\n",
      "Epoch 24/30\n",
      "201/201 [==============================] - 16s 82ms/step - loss: 0.1238 - accuracy: 0.9562 - val_loss: 0.4071 - val_accuracy: 0.8984\n",
      "Epoch 25/30\n",
      "201/201 [==============================] - 16s 81ms/step - loss: 0.1296 - accuracy: 0.9522 - val_loss: 0.4624 - val_accuracy: 0.8797\n",
      "Epoch 26/30\n",
      "201/201 [==============================] - 16s 81ms/step - loss: 0.1152 - accuracy: 0.9570 - val_loss: 0.5755 - val_accuracy: 0.8560\n"
     ]
    }
   ],
   "source": [
    "n_epochs = 30\n",
    "history = model.fit(\n",
    "    train_padded, y_train, epochs=n_epochs, validation_data=(testing_padded, y_test), callbacks=[model_checkpoint, val_loss, early_stopping_callback]\n",
    ")\n",
    "model.load_weights(checkpoint_filepath)"
   ]
  },
  {
   "cell_type": "code",
   "execution_count": 27,
   "metadata": {},
   "outputs": [
    {
     "ename": "ValueError",
     "evalue": "x and y must have same first dimension, but have shapes (30,) and (26,)",
     "output_type": "error",
     "traceback": [
      "\u001b[1;31m---------------------------------------------------------------------------\u001b[0m",
      "\u001b[1;31mValueError\u001b[0m                                Traceback (most recent call last)",
      "\u001b[1;32m<ipython-input-27-b9c67b34f823>\u001b[0m in \u001b[0;36m<module>\u001b[1;34m\u001b[0m\n\u001b[0;32m      4\u001b[0m \u001b[0mepochs\u001b[0m \u001b[1;33m=\u001b[0m \u001b[1;33m[\u001b[0m\u001b[1;33m*\u001b[0m\u001b[0mrange\u001b[0m\u001b[1;33m(\u001b[0m\u001b[0mn_epochs\u001b[0m\u001b[1;33m)\u001b[0m\u001b[1;33m]\u001b[0m\u001b[1;33m\u001b[0m\u001b[1;33m\u001b[0m\u001b[0m\n\u001b[0;32m      5\u001b[0m \u001b[1;33m\u001b[0m\u001b[0m\n\u001b[1;32m----> 6\u001b[1;33m \u001b[0mplt\u001b[0m\u001b[1;33m.\u001b[0m\u001b[0mplot\u001b[0m\u001b[1;33m(\u001b[0m\u001b[0mepochs\u001b[0m\u001b[1;33m,\u001b[0m \u001b[0mloss\u001b[0m\u001b[1;33m,\u001b[0m \u001b[1;34m'r'\u001b[0m\u001b[1;33m)\u001b[0m\u001b[1;33m\u001b[0m\u001b[1;33m\u001b[0m\u001b[0m\n\u001b[0m\u001b[0;32m      7\u001b[0m \u001b[0mplt\u001b[0m\u001b[1;33m.\u001b[0m\u001b[0mplot\u001b[0m\u001b[1;33m(\u001b[0m\u001b[0mepochs\u001b[0m\u001b[1;33m,\u001b[0m \u001b[0mval_loss\u001b[0m\u001b[1;33m,\u001b[0m \u001b[1;34m'b'\u001b[0m\u001b[1;33m)\u001b[0m\u001b[1;33m\u001b[0m\u001b[1;33m\u001b[0m\u001b[0m\n\u001b[0;32m      8\u001b[0m \u001b[0mplt\u001b[0m\u001b[1;33m.\u001b[0m\u001b[0mtitle\u001b[0m\u001b[1;33m(\u001b[0m\u001b[1;34m'Training and validation loss'\u001b[0m\u001b[1;33m)\u001b[0m\u001b[1;33m\u001b[0m\u001b[1;33m\u001b[0m\u001b[0m\n",
      "\u001b[1;32mc:\\Users\\ander\\AppData\\Local\\Programs\\Python\\Python39\\lib\\site-packages\\matplotlib\\pyplot.py\u001b[0m in \u001b[0;36mplot\u001b[1;34m(scalex, scaley, data, *args, **kwargs)\u001b[0m\n\u001b[0;32m   2838\u001b[0m \u001b[1;33m@\u001b[0m\u001b[0m_copy_docstring_and_deprecators\u001b[0m\u001b[1;33m(\u001b[0m\u001b[0mAxes\u001b[0m\u001b[1;33m.\u001b[0m\u001b[0mplot\u001b[0m\u001b[1;33m)\u001b[0m\u001b[1;33m\u001b[0m\u001b[1;33m\u001b[0m\u001b[0m\n\u001b[0;32m   2839\u001b[0m \u001b[1;32mdef\u001b[0m \u001b[0mplot\u001b[0m\u001b[1;33m(\u001b[0m\u001b[1;33m*\u001b[0m\u001b[0margs\u001b[0m\u001b[1;33m,\u001b[0m \u001b[0mscalex\u001b[0m\u001b[1;33m=\u001b[0m\u001b[1;32mTrue\u001b[0m\u001b[1;33m,\u001b[0m \u001b[0mscaley\u001b[0m\u001b[1;33m=\u001b[0m\u001b[1;32mTrue\u001b[0m\u001b[1;33m,\u001b[0m \u001b[0mdata\u001b[0m\u001b[1;33m=\u001b[0m\u001b[1;32mNone\u001b[0m\u001b[1;33m,\u001b[0m \u001b[1;33m**\u001b[0m\u001b[0mkwargs\u001b[0m\u001b[1;33m)\u001b[0m\u001b[1;33m:\u001b[0m\u001b[1;33m\u001b[0m\u001b[1;33m\u001b[0m\u001b[0m\n\u001b[1;32m-> 2840\u001b[1;33m     return gca().plot(\n\u001b[0m\u001b[0;32m   2841\u001b[0m         \u001b[1;33m*\u001b[0m\u001b[0margs\u001b[0m\u001b[1;33m,\u001b[0m \u001b[0mscalex\u001b[0m\u001b[1;33m=\u001b[0m\u001b[0mscalex\u001b[0m\u001b[1;33m,\u001b[0m \u001b[0mscaley\u001b[0m\u001b[1;33m=\u001b[0m\u001b[0mscaley\u001b[0m\u001b[1;33m,\u001b[0m\u001b[1;33m\u001b[0m\u001b[1;33m\u001b[0m\u001b[0m\n\u001b[0;32m   2842\u001b[0m         **({\"data\": data} if data is not None else {}), **kwargs)\n",
      "\u001b[1;32mc:\\Users\\ander\\AppData\\Local\\Programs\\Python\\Python39\\lib\\site-packages\\matplotlib\\axes\\_axes.py\u001b[0m in \u001b[0;36mplot\u001b[1;34m(self, scalex, scaley, data, *args, **kwargs)\u001b[0m\n\u001b[0;32m   1741\u001b[0m         \"\"\"\n\u001b[0;32m   1742\u001b[0m         \u001b[0mkwargs\u001b[0m \u001b[1;33m=\u001b[0m \u001b[0mcbook\u001b[0m\u001b[1;33m.\u001b[0m\u001b[0mnormalize_kwargs\u001b[0m\u001b[1;33m(\u001b[0m\u001b[0mkwargs\u001b[0m\u001b[1;33m,\u001b[0m \u001b[0mmlines\u001b[0m\u001b[1;33m.\u001b[0m\u001b[0mLine2D\u001b[0m\u001b[1;33m)\u001b[0m\u001b[1;33m\u001b[0m\u001b[1;33m\u001b[0m\u001b[0m\n\u001b[1;32m-> 1743\u001b[1;33m         \u001b[0mlines\u001b[0m \u001b[1;33m=\u001b[0m \u001b[1;33m[\u001b[0m\u001b[1;33m*\u001b[0m\u001b[0mself\u001b[0m\u001b[1;33m.\u001b[0m\u001b[0m_get_lines\u001b[0m\u001b[1;33m(\u001b[0m\u001b[1;33m*\u001b[0m\u001b[0margs\u001b[0m\u001b[1;33m,\u001b[0m \u001b[0mdata\u001b[0m\u001b[1;33m=\u001b[0m\u001b[0mdata\u001b[0m\u001b[1;33m,\u001b[0m \u001b[1;33m**\u001b[0m\u001b[0mkwargs\u001b[0m\u001b[1;33m)\u001b[0m\u001b[1;33m]\u001b[0m\u001b[1;33m\u001b[0m\u001b[1;33m\u001b[0m\u001b[0m\n\u001b[0m\u001b[0;32m   1744\u001b[0m         \u001b[1;32mfor\u001b[0m \u001b[0mline\u001b[0m \u001b[1;32min\u001b[0m \u001b[0mlines\u001b[0m\u001b[1;33m:\u001b[0m\u001b[1;33m\u001b[0m\u001b[1;33m\u001b[0m\u001b[0m\n\u001b[0;32m   1745\u001b[0m             \u001b[0mself\u001b[0m\u001b[1;33m.\u001b[0m\u001b[0madd_line\u001b[0m\u001b[1;33m(\u001b[0m\u001b[0mline\u001b[0m\u001b[1;33m)\u001b[0m\u001b[1;33m\u001b[0m\u001b[1;33m\u001b[0m\u001b[0m\n",
      "\u001b[1;32mc:\\Users\\ander\\AppData\\Local\\Programs\\Python\\Python39\\lib\\site-packages\\matplotlib\\axes\\_base.py\u001b[0m in \u001b[0;36m__call__\u001b[1;34m(self, data, *args, **kwargs)\u001b[0m\n\u001b[0;32m    271\u001b[0m                 \u001b[0mthis\u001b[0m \u001b[1;33m+=\u001b[0m \u001b[0margs\u001b[0m\u001b[1;33m[\u001b[0m\u001b[1;36m0\u001b[0m\u001b[1;33m]\u001b[0m\u001b[1;33m,\u001b[0m\u001b[1;33m\u001b[0m\u001b[1;33m\u001b[0m\u001b[0m\n\u001b[0;32m    272\u001b[0m                 \u001b[0margs\u001b[0m \u001b[1;33m=\u001b[0m \u001b[0margs\u001b[0m\u001b[1;33m[\u001b[0m\u001b[1;36m1\u001b[0m\u001b[1;33m:\u001b[0m\u001b[1;33m]\u001b[0m\u001b[1;33m\u001b[0m\u001b[1;33m\u001b[0m\u001b[0m\n\u001b[1;32m--> 273\u001b[1;33m             \u001b[1;32myield\u001b[0m \u001b[1;32mfrom\u001b[0m \u001b[0mself\u001b[0m\u001b[1;33m.\u001b[0m\u001b[0m_plot_args\u001b[0m\u001b[1;33m(\u001b[0m\u001b[0mthis\u001b[0m\u001b[1;33m,\u001b[0m \u001b[0mkwargs\u001b[0m\u001b[1;33m)\u001b[0m\u001b[1;33m\u001b[0m\u001b[1;33m\u001b[0m\u001b[0m\n\u001b[0m\u001b[0;32m    274\u001b[0m \u001b[1;33m\u001b[0m\u001b[0m\n\u001b[0;32m    275\u001b[0m     \u001b[1;32mdef\u001b[0m \u001b[0mget_next_color\u001b[0m\u001b[1;33m(\u001b[0m\u001b[0mself\u001b[0m\u001b[1;33m)\u001b[0m\u001b[1;33m:\u001b[0m\u001b[1;33m\u001b[0m\u001b[1;33m\u001b[0m\u001b[0m\n",
      "\u001b[1;32mc:\\Users\\ander\\AppData\\Local\\Programs\\Python\\Python39\\lib\\site-packages\\matplotlib\\axes\\_base.py\u001b[0m in \u001b[0;36m_plot_args\u001b[1;34m(self, tup, kwargs)\u001b[0m\n\u001b[0;32m    397\u001b[0m \u001b[1;33m\u001b[0m\u001b[0m\n\u001b[0;32m    398\u001b[0m         \u001b[1;32mif\u001b[0m \u001b[0mx\u001b[0m\u001b[1;33m.\u001b[0m\u001b[0mshape\u001b[0m\u001b[1;33m[\u001b[0m\u001b[1;36m0\u001b[0m\u001b[1;33m]\u001b[0m \u001b[1;33m!=\u001b[0m \u001b[0my\u001b[0m\u001b[1;33m.\u001b[0m\u001b[0mshape\u001b[0m\u001b[1;33m[\u001b[0m\u001b[1;36m0\u001b[0m\u001b[1;33m]\u001b[0m\u001b[1;33m:\u001b[0m\u001b[1;33m\u001b[0m\u001b[1;33m\u001b[0m\u001b[0m\n\u001b[1;32m--> 399\u001b[1;33m             raise ValueError(f\"x and y must have same first dimension, but \"\n\u001b[0m\u001b[0;32m    400\u001b[0m                              f\"have shapes {x.shape} and {y.shape}\")\n\u001b[0;32m    401\u001b[0m         \u001b[1;32mif\u001b[0m \u001b[0mx\u001b[0m\u001b[1;33m.\u001b[0m\u001b[0mndim\u001b[0m \u001b[1;33m>\u001b[0m \u001b[1;36m2\u001b[0m \u001b[1;32mor\u001b[0m \u001b[0my\u001b[0m\u001b[1;33m.\u001b[0m\u001b[0mndim\u001b[0m \u001b[1;33m>\u001b[0m \u001b[1;36m2\u001b[0m\u001b[1;33m:\u001b[0m\u001b[1;33m\u001b[0m\u001b[1;33m\u001b[0m\u001b[0m\n",
      "\u001b[1;31mValueError\u001b[0m: x and y must have same first dimension, but have shapes (30,) and (26,)"
     ]
    },
    {
     "data": {
      "image/png": "[encoded data removed]",
      "text/plain": [
       "<Figure size 432x288 with 1 Axes>"
      ]
     },
     "metadata": {
      "needs_background": "light"
     },
     "output_type": "display_data"
    }
   ],
   "source": [
    "loss = history.history['loss']\n",
    "val_loss = history.history['val_loss']\n",
    "\n",
    "epochs = [*range(n_epochs)]\n",
    "\n",
    "plt.plot(epochs, loss, 'r')\n",
    "plt.plot(epochs, val_loss, 'b')\n",
    "plt.title('Training and validation loss')\n",
    "plt.xlabel(\"Epochs\")\n",
    "plt.ylabel(\"Loss\")\n",
    "plt.legend([\"Loss\", \"Validation Loss\"])\n",
    "plt.show()"
   ]
  },
  {
   "cell_type": "code",
   "execution_count": null,
   "metadata": {},
   "outputs": [
    {
     "data": {
      "image/png": "[encoded data removed]",
      "text/plain": [
       "<Figure size 432x288 with 1 Axes>"
      ]
     },
     "metadata": {
      "needs_background": "light"
     },
     "output_type": "display_data"
    }
   ],
   "source": [
    "acc = history.history['accuracy']\n",
    "val_acc = history.history['val_accuracy']\n",
    "\n",
    "plt.plot(epochs, acc, 'r')\n",
    "plt.plot(epochs, val_acc, 'b')\n",
    "plt.title('Training and validation accuracy')\n",
    "plt.xlabel(\"Epochs\")\n",
    "plt.ylabel(\"Accuracy\")\n",
    "plt.legend([\"Accuracy\", \"Validation Accuracy\"])\n",
    "plt.show()"
   ]
  },
  {
   "cell_type": "code",
   "execution_count": null,
   "metadata": {},
   "outputs": [
    {
     "name": "stdout",
     "output_type": "stream",
     "text": [
      "The slope of your validation loss curve is -0.01296\n"
     ]
    }
   ],
   "source": [
    "slope, *_ = linregress(epochs, val_loss)\n",
    "print(f\"The slope of your validation loss curve is {slope:.5f}\")"
   ]
  }
 ],
 "metadata": {
  "kernelspec": {
   "display_name": "Python 3.9.1 64-bit",
   "language": "python",
   "name": "python3"
  },
  "language_info": {
   "codemirror_mode": {
    "name": "ipython",
    "version": 3
   },
   "file_extension": ".py",
   "mimetype": "text/x-python",
   "name": "python",
   "nbconvert_exporter": "python",
   "pygments_lexer": "ipython3",
   "version": "3.9.1"
  },
  "orig_nbformat": 4,
  "vscode": {
   "interpreter": {
    "hash": "4daf73df99b5d5ee04b9c4f6d0c928016b99f4a7167499c60f06ba788794ec50"
   }
  }
 },
 "nbformat": 4,
 "nbformat_minor": 2
}
