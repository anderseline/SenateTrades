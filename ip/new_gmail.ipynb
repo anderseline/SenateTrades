{
 "cells": [
  {
   "cell_type": "code",
   "execution_count": 2,
   "metadata": {},
   "outputs": [],
   "source": [
    "from Google import Create_Service\n",
    "from email.mime.text import MIMEText\n",
    "from email.mime.multipart import MIMEMultipart\n",
    "from email.utils import formataddr\n",
    "import base64"
   ]
  },
  {
   "cell_type": "code",
   "execution_count": 5,
   "metadata": {},
   "outputs": [],
   "source": [
    "def sendEmails():\n",
    "\n",
    "    CLIENT_SECRET_FILE = '../res/gmail/senatetrades_gmailKeys.json'\n",
    "    API_NAME = 'gmail'\n",
    "    API_VERSION = 'v1'\n",
    "    SCOPES = ['https://mail.google.com/']\n",
    "    service = Create_Service(CLIENT_SECRET_FILE, API_NAME, API_VERSION, SCOPES)\n",
    "\n",
    "    send_email = 'senatetrades@gmail.com'\n",
    "\n",
    "    message = MIMEMultipart('alternative')\n",
    "    message['Subject'] = 'Trade Alert'\n",
    "    message['From'] = formataddr(('SenateTrades', send_email))\n",
    "    message['To'] = send_email\n",
    "    message['Bcc'] = ''\n",
    "\n",
    "    body = MIMEText('testdata', 'plain')\n",
    "    message.attach(body)\n",
    "    \n",
    "    raw_string = base64.urlsafe_b64encode(message.as_bytes()).decode()\n",
    "    message = service.users().messages().send(userId='me', body={'raw':raw_string}).execute()"
   ]
  },
  {
   "cell_type": "code",
   "execution_count": 6,
   "metadata": {},
   "outputs": [
    {
     "name": "stdout",
     "output_type": "stream",
     "text": [
      "Please visit this URL to authorize this application: https://accounts.google.com/o/oauth2/auth?response_type=code&client_id=391016487630-m2ip7eqfl7m5khpb7put83ssjmj1j8rn.apps.googleusercontent.com&redirect_uri=http%3A%2F%2Flocalhost%3A8080%2F&scope=https%3A%2F%2Fmail.google.com%2F&state=70uKno0hJZzDCkTyqBsrh7x2X8xxZw&access_type=offline\n",
      "gmail v1 service created successfully\n"
     ]
    }
   ],
   "source": [
    "sendEmails()"
   ]
  }
 ],
 "metadata": {
  "kernelspec": {
   "display_name": "Python 3.9.1 64-bit",
   "language": "python",
   "name": "python3"
  },
  "language_info": {
   "codemirror_mode": {
    "name": "ipython",
    "version": 3
   },
   "file_extension": ".py",
   "mimetype": "text/x-python",
   "name": "python",
   "nbconvert_exporter": "python",
   "pygments_lexer": "ipython3",
   "version": "3.9.1"
  },
  "orig_nbformat": 4,
  "vscode": {
   "interpreter": {
    "hash": "4daf73df99b5d5ee04b9c4f6d0c928016b99f4a7167499c60f06ba788794ec50"
   }
  }
 },
 "nbformat": 4,
 "nbformat_minor": 2
}
